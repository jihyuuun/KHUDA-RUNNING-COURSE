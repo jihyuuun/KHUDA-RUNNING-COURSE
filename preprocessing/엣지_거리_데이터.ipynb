{
 "cells": [
  {
   "cell_type": "code",
   "execution_count": null,
   "metadata": {},
   "outputs": [
    {
     "name": "stderr",
     "output_type": "stream",
     "text": [
      "100%|██████████| 1247/1247 [00:06<00:00, 186.72it/s]\n"
     ]
    },
    {
     "name": "stdout",
     "output_type": "stream",
     "text": [
      "'edges_distance'가 추가된 데이터가 '골라낸 엣지 거리.xlsx'에 저장되었습니다!\n"
     ]
    }
   ],
   "source": [
    "import pandas as pd\n",
    "import requests\n",
    "from tqdm import tqdm\n",
    "\n",
    "# OSRM 서버 설정\n",
    "osrm_server = \"http://localhost:5000\"\n",
    "profile = \"foot\"\n",
    "\n",
    "# 파일 불러오기\n",
    "file_path = \"골라낸 엣지 거리.xlsx\"\n",
    "edges = pd.read_excel(file_path, engine=\"openpyxl\")\n",
    "\n",
    "# 도보거리 계산 함수\n",
    "def get_osrm_distance(start_lon, start_lat, end_lon, end_lat):\n",
    "    coordinates = f\"{start_lon},{start_lat};{end_lon},{end_lat}\"\n",
    "    url = f\"{osrm_server}/route/v1/{profile}/{coordinates}?overview=false\"\n",
    "    try:\n",
    "        response = requests.get(url)\n",
    "        if response.status_code == 200:\n",
    "            data = response.json()\n",
    "            return data[\"routes\"][0][\"distance\"]\n",
    "        else:\n",
    "            print(f\"Error: {response.status_code} for coordinates {coordinates}\")\n",
    "            return None\n",
    "    except Exception as e:\n",
    "        print(f\"Exception: {e} for coordinates {coordinates}\")\n",
    "        return None\n",
    "\n",
    "# tqdm으로 진행 상태 표시\n",
    "tqdm.pandas()\n",
    "\n",
    "# 거리 계산 및 새로운 열 추가\n",
    "edges[\"edges_distance\"] = edges.progress_apply(\n",
    "    lambda row: get_osrm_distance(\n",
    "        row[\"id_start_경도\"], row[\"id_start_위도\"], row[\"id_end_경도\"], row[\"id_end_위도\"]\n",
    "    ),\n",
    "    axis=1,\n",
    ")\n",
    "\n",
    "# 결과 저장\n",
    "edges.to_excel(file_path, index=False, engine=\"openpyxl\")\n"
   ]
  }
 ],
 "metadata": {
  "kernelspec": {
   "display_name": "Python 3",
   "language": "python",
   "name": "python3"
  },
  "language_info": {
   "codemirror_mode": {
    "name": "ipython",
    "version": 3
   },
   "file_extension": ".py",
   "mimetype": "text/x-python",
   "name": "python",
   "nbconvert_exporter": "python",
   "pygments_lexer": "ipython3",
   "version": "3.12.5"
  }
 },
 "nbformat": 4,
 "nbformat_minor": 2
}
