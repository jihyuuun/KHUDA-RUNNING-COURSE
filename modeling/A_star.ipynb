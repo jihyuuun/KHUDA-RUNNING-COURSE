{
 "cells": [
  {
   "cell_type": "code",
   "execution_count": null,
   "metadata": {
    "id": "jQCp6_gs-HjL"
   },
   "outputs": [],
   "source": [
    "import heapq\n",
    "import pandas as pd\n",
    "import folium\n",
    "from IPython.display import display\n",
    "from datetime import datetime"
   ]
  },
  {
   "cell_type": "code",
   "execution_count": null,
   "metadata": {
    "id": "aBefKZUAE6dq"
   },
   "outputs": [],
   "source": [
    "def load_graph(file_path, user_input_time):\n",
    "    df = pd.read_csv(file_path)\n",
    "    graph = {}\n",
    "\n",
    "    # 시간대에 따른 cost 선택\n",
    "    if 7 <= user_input_time <= 9:\n",
    "        cost_column = 'cost_morning'\n",
    "    elif 18 <= user_input_time <= 20:\n",
    "        cost_column = 'cost_evening'\n",
    "    else:\n",
    "        print(\"7시에서 9시 사이 혹은 18시에서 20시 사이의 시간대를 입력해주세요.\")\n",
    "        return None\n",
    "\n",
    "    # 그래프 생성\n",
    "    for _, row in df.iterrows():\n",
    "        start, end, distance, cost = row['id_start'], row['id_end'], row['distance'], row[cost_column]\n",
    "\n",
    "        if start not in graph:\n",
    "            graph[start] = []\n",
    "        if end not in graph:\n",
    "            graph[end] = []\n",
    "\n",
    "        # 유향 엣지로 추가\n",
    "        graph[start].append((end, cost, distance))  # start -> end\n",
    "\n",
    "        # 역방향 엣지 추가 여부 확인\n",
    "        if not any(neighbor == start for neighbor, _, _ in graph[end]):\n",
    "            graph[end].append((start, cost, distance))  # end -> start \n",
    "\n",
    "    return graph"
   ]
  },
  {
   "cell_type": "code",
   "execution_count": null,
   "metadata": {
    "id": "SZBu8qYkE8LT"
   },
   "outputs": [],
   "source": [
    "def heuristic(node, start, graph):\n",
    "    # 반환점에서 출발지로의 비용을 직접 사용\n",
    "    for neighbor, cost, _ in graph[start]:\n",
    "        if neighbor == node:\n",
    "            return cost\n",
    "    return 0"
   ]
  },
  {
   "cell_type": "code",
   "execution_count": null,
   "metadata": {
    "id": "mBrYVpH8E9PK"
   },
   "outputs": [],
   "source": [
    "def a_star_search(graph, start, min_distance, max_distance):\n",
    "    pq = []  # (f(n), g(n), 현재 노드, 경로, 거리)\n",
    "    heapq.heappush(pq, (0, 0, start, [start], 0))\n",
    "    best_cycle = None\n",
    "    min_cost = float('inf')\n",
    "    best_distance = 0  # 최적 경로의 거리 초기화\n",
    "\n",
    "    exceeded_paths = set()\n",
    "    best_path_str = \"\"\n",
    "    visited_edges_map = {}\n",
    "\n",
    "    print(f\"Starting path exploration with A* from node {start}...\\n\")\n",
    "\n",
    "    while pq:\n",
    "        fn, gn, node, path, distance = heapq.heappop(pq)\n",
    "\n",
    "        path_tuple = tuple(path)\n",
    "        if path_tuple in exceeded_paths:\n",
    "            continue\n",
    "\n",
    "        if gn >= min_cost:\n",
    "            print(f\"Pruning path {path} with cost {gn} as it exceeds current min cost {min_cost}\\n\")\n",
    "            continue\n",
    "\n",
    "        if distance > max_distance:\n",
    "            print(f\"Exceeded max distance for path {path}: {distance}m\\n\")\n",
    "            exceeded_paths.add(path_tuple)\n",
    "            continue\n",
    "\n",
    "        if node == start and len(path) > 1:\n",
    "            if min_distance <= distance <= max_distance and gn < min_cost:\n",
    "                best_cycle = path\n",
    "                min_cost = gn\n",
    "                best_distance = distance\n",
    "                best_path_str = f\"\\nNew best cycle found: {path} with cost: {gn}, distance: {distance}m\\n\"\n",
    "                print(best_path_str)\n",
    "            continue\n",
    "\n",
    "        if path_tuple not in visited_edges_map:\n",
    "            visited_edges_map[path_tuple] = set((min(path[i], path[i + 1]), max(path[i], path[i + 1])) for i in range(len(path) - 1))\n",
    "        visited_edges = visited_edges_map[path_tuple]\n",
    "\n",
    "        for neighbor, edge_cost, edge_distance in graph[node]:\n",
    "            edge = (min(node, neighbor), max(node, neighbor))\n",
    "            if edge in visited_edges or (neighbor, node) in visited_edges:\n",
    "                continue\n",
    "\n",
    "            new_gn = gn + edge_cost\n",
    "            new_distance = distance + edge_distance\n",
    "\n",
    "            if new_gn >= min_cost:\n",
    "                print(f\"Pruning neighbor {neighbor} from path {path} with projected cost {new_gn}\\n\")\n",
    "                continue\n",
    "\n",
    "            try:\n",
    "                hn = heuristic(neighbor, start, graph)\n",
    "            except KeyError:\n",
    "                hn = float('inf')\n",
    "\n",
    "            fn = new_gn + hn\n",
    "            heapq.heappush(pq, (fn, new_gn, neighbor, path + [neighbor], new_distance))\n",
    "\n",
    "    print(\"\\nPath exploration complete.\\n\")\n",
    "    return best_cycle, min_cost, best_distance\n"
   ]
  },
  {
   "cell_type": "code",
   "execution_count": null,
   "metadata": {
    "id": "Igl2FabWFAhQ"
   },
   "outputs": [],
   "source": [
    "def plot_graph_folium(graph, marker_file, best_cycle):\n",
    "    marker_df = pd.read_csv(marker_file, encoding='cp949')\n",
    "\n",
    "    # 지도 초기화 (첫 번째 노드의 위치로 중심 설정)\n",
    "    start_lat, start_lon = marker_df.iloc[0]['위도'], marker_df.iloc[0]['경도']\n",
    "    m = folium.Map(location=[start_lat, start_lon], zoom_start=14)\n",
    "\n",
    "    # 최적 경로 노드의 위치 설정 및 마커 추가\n",
    "    positions = {}\n",
    "    if best_cycle:\n",
    "        for node_id in best_cycle:\n",
    "            node_data = marker_df[marker_df['id'] == node_id].iloc[0]\n",
    "            lat, lon = node_data['위도'], node_data['경도']\n",
    "            positions[node_id] = (lat, lon)\n",
    "            folium.Marker([lat, lon], popup=f'Node {node_id}', icon=folium.Icon(color='red')).add_to(m)\n",
    "\n",
    "    # 최적 경로 엣지 그리기\n",
    "    if best_cycle:\n",
    "        for i in range(len(best_cycle) - 1):\n",
    "            start_node = best_cycle[i]\n",
    "            end_node = best_cycle[i + 1]\n",
    "            if start_node in positions and end_node in positions:\n",
    "                start_pos = positions[start_node]\n",
    "                end_pos = positions[end_node]\n",
    "                folium.PolyLine([start_pos, end_pos], color='blue', weight=2, opacity=0.5).add_to(m)\n",
    "\n",
    "    # 지도 출력\n",
    "    display(m)"
   ]
  },
  {
   "cell_type": "code",
   "execution_count": null,
   "metadata": {
    "colab": {
     "base_uri": "https://localhost:8080/"
    },
    "id": "lNVUwsOEFIHf",
    "outputId": "92aa20af-1b46-4aa2-80d6-bee7b36554c6"
   },
   "outputs": [],
   "source": [
    "# 출발 노드 입력\n",
    "user_input_node = float(input(\"출발노드: \"))\n",
    "\n",
    "# 거리 입력 (km 단위)\n",
    "user_input_km = float(input(\"코스 거리: \"))\n",
    "\n",
    "# 시간대\n",
    "user_input_time = float(input(\"시간대: \"))\n",
    "\n",
    "# 거리 제한 설정 (m 단위)\n",
    "min_distance = int((user_input_km - 0.3) * 1000)\n",
    "max_distance = int((user_input_km + 0.3) * 1000)\n",
    "\n",
    "# 파일 경로 및 실행\n",
    "file_path = \"데이터_전처리_완료.csv\"  # 실제 파일 경로로 교체\n",
    "marker_file_path = \"marker_id.csv\"  # 노드 위치 정보가 담긴 파일 경로\n",
    "graph = load_graph(file_path, user_input_time)\n",
    "start_node = user_input_node"
   ]
  },
  {
   "cell_type": "code",
   "execution_count": null,
   "metadata": {
    "colab": {
     "base_uri": "https://localhost:8080/"
    },
    "id": "w-2CeKv2FNOd",
    "outputId": "ec4edac3-8da9-485f-8212-783d56e4a0a8"
   },
   "outputs": [],
   "source": [
    "# 최적 경로 탐색\n",
    "try:\n",
    "    cycle, cost, distance = a_star_search(graph, start_node, min_distance, max_distance)\n",
    "    print(\"\\n최적 사이클:\", cycle)\n",
    "    print(\"최소 비용:\", cost)\n",
    "    print(\"최적 경로의 총 거리:\", distance)\n",
    "except ValueError as e:\n",
    "    print(f\"Error during path search: {e}\")"
   ]
  },
  {
   "cell_type": "code",
   "execution_count": null,
   "metadata": {
    "id": "GtVCE90XFNsU"
   },
   "outputs": [],
   "source": [
    "# 그래프 시각화 (Folium 사용)\n",
    "plot_graph_folium(graph, marker_file_path, cycle)"
   ]
  }
 ],
 "metadata": {
  "colab": {
   "provenance": []
  },
  "kernelspec": {
   "display_name": "Python 3",
   "name": "python3"
  },
  "language_info": {
   "codemirror_mode": {
    "name": "ipython",
    "version": 3
   },
   "file_extension": ".py",
   "mimetype": "text/x-python",
   "name": "python",
   "nbconvert_exporter": "python",
   "pygments_lexer": "ipython3",
   "version": "3.12.5"
  }
 },
 "nbformat": 4,
 "nbformat_minor": 0
}
